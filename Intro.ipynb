{
  "nbformat": 4,
  "nbformat_minor": 0,
  "metadata": {
    "colab": {
      "provenance": []
    },
    "kernelspec": {
      "name": "python3",
      "display_name": "Python 3"
    },
    "language_info": {
      "name": "python"
    }
  },
  "cells": [
    {
      "cell_type": "markdown",
      "source": [
        "# Introduction to Data Science Tools\n"
      ],
      "metadata": {
        "id": "O2BbkKMWBF9h"
      }
    },
    {
      "cell_type": "markdown",
      "source": [
        "## Introduction\n",
        "Welcome to this Jupyter Notebook introducing various data science tools and concepts. In this notebook, we will explore different programming languages, libraries, and tools commonly used in the field of data science.\n"
      ],
      "metadata": {
        "id": "cfRiSyspBNvQ"
      }
    },
    {
      "cell_type": "markdown",
      "source": [
        "## Data Science Languages\n",
        "- Python\n",
        "- R\n",
        "- Julia\n",
        "- SQL\n",
        "- Scala\n",
        "- MATLAB"
      ],
      "metadata": {
        "id": "aYW7VzYZBRSx"
      }
    },
    {
      "cell_type": "markdown",
      "source": [
        "## Data Science Libraries\n",
        "- NumPy\n",
        "- pandas\n",
        "- Matplotlib\n",
        "- Seaborn\n",
        "- Scikit-learn\n",
        "- TensorFlow\n",
        "- Keras\n",
        "- PyTorch\n",
        "- dplyr\n",
        "- ggplot2\n",
        "- tidyr\n",
        "- caret\n",
        "- lubridate\n",
        "- data.table\n",
        "- xgboost\n",
        "- shiny\n"
      ],
      "metadata": {
        "id": "SvBrDknlBVeQ"
      }
    },
    {
      "cell_type": "markdown",
      "source": [
        "## Data Science Tools\n",
        "\n",
        "| Tool           | Description                          |\n",
        "|----------------|--------------------------------------|\n",
        "| Jupyter Notebook | Interactive computing environment   |\n",
        "| RStudio        | Integrated development environment for R |\n",
        "| Spyder         | Scientific Python development environment |\n",
        "| PyCharm        | Integrated development environment for Python |\n",
        "| Visual Studio Code | Source code editor developed by Microsoft |\n"
      ],
      "metadata": {
        "id": "nsNUrABXBY3C"
      }
    },
    {
      "cell_type": "markdown",
      "source": [
        "## Arithmetic Expression Examples\n",
        "Let's explore some basic arithmetic expressions using Python.\n"
      ],
      "metadata": {
        "id": "B0L3_uKIBbeM"
      }
    },
    {
      "cell_type": "code",
      "source": [
        "# Multiplication and Addition\n",
        "a = 5\n",
        "b = 3\n",
        "multiply_result = a * b\n",
        "add_result = a + b\n",
        "print(\"Multiplication Result:\", multiply_result)\n",
        "print(\"Addition Result:\", add_result)"
      ],
      "metadata": {
        "colab": {
          "base_uri": "https://localhost:8080/"
        },
        "id": "Tm62W1gSBgNI",
        "outputId": "27ca054f-4e2e-4ecb-fdd2-5f1d7a5ab162"
      },
      "execution_count": 1,
      "outputs": [
        {
          "output_type": "stream",
          "name": "stdout",
          "text": [
            "Multiplication Result: 15\n",
            "Addition Result: 8\n"
          ]
        }
      ]
    },
    {
      "cell_type": "code",
      "source": [
        "# Convert Minutes to Hours\n",
        "minutes = 150\n",
        "hours = minutes / 60\n",
        "print(minutes, \"minutes is equal to\", hours, \"hours\")"
      ],
      "metadata": {
        "colab": {
          "base_uri": "https://localhost:8080/"
        },
        "id": "Ou2Phe5xBjXQ",
        "outputId": "d1c476a0-15bb-46fb-c73e-85ae5b9879d6"
      },
      "execution_count": 2,
      "outputs": [
        {
          "output_type": "stream",
          "name": "stdout",
          "text": [
            "150 minutes is equal to 2.5 hours\n"
          ]
        }
      ]
    },
    {
      "cell_type": "markdown",
      "source": [
        "## Objectives\n",
        "- Introduce various data science languages, libraries, and tools.\n",
        "- Perform basic arithmetic operations using Python.\n",
        "- Convert units of time."
      ],
      "metadata": {
        "id": "XWrk8I8CBm52"
      }
    },
    {
      "cell_type": "markdown",
      "source": [
        "## Author\n",
        "[Aji Kautsar Yusuf]"
      ],
      "metadata": {
        "id": "9cF144_oBpPC"
      }
    }
  ]
}